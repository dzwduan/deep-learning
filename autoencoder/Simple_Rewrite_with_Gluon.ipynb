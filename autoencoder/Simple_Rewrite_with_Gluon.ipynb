{
 "cells": [
  {
   "cell_type": "code",
   "execution_count": 13,
   "metadata": {},
   "outputs": [],
   "source": [
    "import mxnet as mx\n",
    "from mxnet import gluon\n",
    "from mxnet.gluon import nn"
   ]
  },
  {
   "cell_type": "code",
   "execution_count": 8,
   "metadata": {},
   "outputs": [],
   "source": [
    "num_epochs = 10\n",
    "batch_size = 64\n",
    "learning_rate = 1e-3\n",
    "ctx = mx.gpu()"
   ]
  },
  {
   "cell_type": "code",
   "execution_count": 14,
   "metadata": {},
   "outputs": [],
   "source": [
    "def transform(data,label):\n",
    "    return (data.astype('float32') / 255 - 0.5) / 0.5 ,label.astype('float32')"
   ]
  },
  {
   "cell_type": "code",
   "execution_count": 15,
   "metadata": {},
   "outputs": [],
   "source": [
    "mnist_train=gluon.data.vision.MNIST(train=True,transform=transform)"
   ]
  },
  {
   "cell_type": "code",
   "execution_count": 16,
   "metadata": {},
   "outputs": [],
   "source": [
    "dataloader = gluon.data.DataLoader(\n",
    "    mnist_train, batch_size=batch_size, shuffle=True)"
   ]
  },
  {
   "cell_type": "code",
   "execution_count": 18,
   "metadata": {},
   "outputs": [],
   "source": [
    "class autoencoder(gluon.HybridBlock):\n",
    "    def __init__(self):\n",
    "        super(autoencoder,self).__init__()\n",
    "        \n",
    "        self.encoder=gluon.nn.HybridSequential('encoder_')\n",
    "        with self.encoder.name_scope():\n",
    "            self.encoder.add(\n",
    "                nn.Dense(128,activation='relu'),\n",
    "                nn.Dense(64,activation='relu'),\n",
    "                nn.Dense(32,activation='relu'),\n",
    "            )\n",
    "            \n",
    "        self.decoder=gluon.nn.HybridSequential('decoder_')\n",
    "        with self.decoder.name_scope():\n",
    "            self.encoder.add(\n",
    "                nn.Dense(32,activation='relu'),\n",
    "                nn.Dense(64,activation='relu'),\n",
    "                nn.Dense(128,activation='relu'),\n",
    "                nn.Dense(28*28,activation=None)\n",
    "            )\n",
    "        \n",
    "    def hybrid_forward(self, F, x):\n",
    "        x=self.encoder(x)\n",
    "        x=F.tanh(self.decoder(x))\n",
    "        return x\n",
    "        "
   ]
  },
  {
   "cell_type": "code",
   "execution_count": 19,
   "metadata": {},
   "outputs": [],
   "source": [
    "model=autoencoder()"
   ]
  },
  {
   "cell_type": "code",
   "execution_count": 20,
   "metadata": {},
   "outputs": [],
   "source": [
    "model.collect_params().initialize(mx.init.Xavier(),ctx=ctx)\n",
    "l2loss=gluon.loss.L2Loss()\n",
    "trainer=gluon.Trainer(model.collect_params(),'adam',{\n",
    "    'learning_rate':learning_rate,'wd':1e-5})"
   ]
  },
  {
   "cell_type": "code",
   "execution_count": 24,
   "metadata": {},
   "outputs": [
    {
     "name": "stdout",
     "output_type": "stream",
     "text": [
      "epoch [1/10], loss:0.0378\n",
      "epoch [2/10], loss:0.0328\n",
      "epoch [3/10], loss:0.0295\n",
      "epoch [4/10], loss:0.0275\n",
      "epoch [5/10], loss:0.0259\n",
      "epoch [6/10], loss:0.0245\n",
      "epoch [7/10], loss:0.0236\n",
      "epoch [8/10], loss:0.0229\n",
      "epoch [9/10], loss:0.0224\n",
      "epoch [10/10], loss:0.0220\n"
     ]
    }
   ],
   "source": [
    "for epoch in range(num_epochs):\n",
    "    running_loss = 0.0\n",
    "    n_total = 0.0\n",
    "    for data in dataloader:\n",
    "        img, _ = data\n",
    "        img = img.reshape((img.shape[0], -1)).as_in_context(ctx)\n",
    "\n",
    "        with mx.autograd.record():\n",
    "            output = model(img)\n",
    "            loss = l2loss(output, img)\n",
    "        loss.backward()\n",
    "        trainer.step(img.shape[0])\n",
    "        running_loss += mx.nd.sum(loss).asscalar()\n",
    "        n_total += img.shape[0]\n",
    "    print('epoch [{}/{}], loss:{:.4f}'\n",
    "          .format(epoch + 1, num_epochs, running_loss / n_total))"
   ]
  },
  {
   "cell_type": "code",
   "execution_count": null,
   "metadata": {},
   "outputs": [],
   "source": []
  }
 ],
 "metadata": {
  "kernelspec": {
   "display_name": "Python 3",
   "language": "python",
   "name": "python3"
  },
  "language_info": {
   "codemirror_mode": {
    "name": "ipython",
    "version": 3
   },
   "file_extension": ".py",
   "mimetype": "text/x-python",
   "name": "python",
   "nbconvert_exporter": "python",
   "pygments_lexer": "ipython3",
   "version": "3.6.3"
  }
 },
 "nbformat": 4,
 "nbformat_minor": 2
}
