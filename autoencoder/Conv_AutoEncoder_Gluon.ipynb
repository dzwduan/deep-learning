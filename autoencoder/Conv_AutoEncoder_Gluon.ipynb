{
 "cells": [
  {
   "cell_type": "code",
   "execution_count": null,
   "metadata": {
    "ExecuteTime": {
     "end_time": "2017-12-22T08:59:24.234156Z",
     "start_time": "2017-12-22T08:59:24.228157Z"
    }
   },
   "outputs": [],
   "source": [
    "from mxnet import gluon\n",
    "from mxnet.gluon import nn\n",
    "from mxnet import init\n",
    "from mxnet import nd\n",
    "from mxnet import image\n",
    "from mxnet.gluon.nn import Conv2D\n",
    "from mxnet.gluon.nn import MaxPool2D\n",
    "from mxnet import init\n",
    "import mxnet as mx\n",
    "\n"
   ]
  },
  {
   "cell_type": "code",
   "execution_count": null,
   "metadata": {
    "ExecuteTime": {
     "end_time": "2017-12-22T08:59:25.297211Z",
     "start_time": "2017-12-22T08:59:25.293209Z"
    }
   },
   "outputs": [],
   "source": [
    "batch_size=64\n",
    "num_epochs=10\n",
    "learning_rate=1e-3"
   ]
  },
  {
   "cell_type": "code",
   "execution_count": null,
   "metadata": {
    "ExecuteTime": {
     "end_time": "2017-12-22T08:59:25.690868Z",
     "start_time": "2017-12-22T08:59:25.678869Z"
    }
   },
   "outputs": [],
   "source": [
    "# train_augs = [\n",
    "#     image.HorizontalFlipAug(.5),\n",
    "#     image.RandomCropAug((224,224))\n",
    "#     ]\n",
    "\n",
    "# test_augs = [\n",
    "#     image.CenterCropAug((224,224))\n",
    "#     ]\n",
    "\n",
    "# def transform(data, label, augs):\n",
    "#     data = data.astype('float32')\n",
    "#     for aug in augs:\n",
    "#         data = aug(data)\n",
    "#     data = nd.transpose(data, (2,0,1))\n",
    "#     return data, nd.array([label]).asscalar().astype('float32')"
   ]
  },
  {
   "cell_type": "code",
   "execution_count": null,
   "metadata": {},
   "outputs": [],
   "source": [
    "def img_transform(data, label):\n",
    "    data = data.transpose((2, 0, 1))\n",
    "    return (data.astype('float32') / 255 - 0.5) / 0.5, label.astype('float32')"
   ]
  },
  {
   "cell_type": "code",
   "execution_count": null,
   "metadata": {
    "ExecuteTime": {
     "end_time": "2017-12-22T09:00:37.931145Z",
     "start_time": "2017-12-22T09:00:37.538117Z"
    }
   },
   "outputs": [],
   "source": [
    "dataset=gluon.data.vision.MNIST(transform=img_transform)\n",
    "dataloader=gluon.data.DataLoader(dataset,batch_size,shuffle=True)"
   ]
  },
  {
   "cell_type": "code",
   "execution_count": null,
   "metadata": {},
   "outputs": [],
   "source": [
    "class AutoEncoder(nn.HybridBlock):\n",
    "    def __init__(self,**kwargs):\n",
    "        super(AutoEncoder,self).__init__()\n",
    "        with self.name_scope():\n",
    "            self.encoder=nn.HybridSequential(prefix='encoder_')\n",
    "            with self.encoder.name_scope():                               \n",
    "                self.encoder.add(\n",
    "                    Conv2D(16,3,strides=3,padding=1,activation='relu'),    # 16 channels , kernel_size=3\n",
    "                    MaxPool2D(pool_size=(2,2)),\n",
    "                    Conv2D(8,3,strides=2,padding=1,activation='relu'),\n",
    "                    MaxPool2D(pool_size=(2,2)),\n",
    "                )\n",
    "            self.decoder=nn.HybridSequential(prefix='decoder_')\n",
    "            with self.decoder.name_scope():\n",
    "                self.decoder.add(\n",
    "                    nn.Conv2DTranspose(16,3,strides=2,activation='relu'),\n",
    "                    nn.Conv2DTranspose(8,5,strides=3,padding=1,activation='relu'),\n",
    "                    nn.Conv2DTranspose(1,2,strides=2,padding=1,activation='tanh')\n",
    "                )\n",
    "                \n",
    "    def forward(self,x):\n",
    "        x=self.encoder(x)\n",
    "        x=self.decoder(x)\n",
    "        return x"
   ]
  },
  {
   "cell_type": "code",
   "execution_count": null,
   "metadata": {},
   "outputs": [],
   "source": [
    "ctx=mx.gpu()\n",
    "model=AutoEncoder()\n",
    "model.hybridize()\n",
    "model.collect_params().initialize(init.Xavier(\"gaussian\"),ctx=ctx)"
   ]
  },
  {
   "cell_type": "code",
   "execution_count": null,
   "metadata": {},
   "outputs": [],
   "source": [
    "model"
   ]
  },
  {
   "cell_type": "code",
   "execution_count": null,
   "metadata": {},
   "outputs": [],
   "source": [
    "l2loss=gluon.loss.L2Loss()"
   ]
  },
  {
   "cell_type": "code",
   "execution_count": null,
   "metadata": {},
   "outputs": [],
   "source": [
    "trainer=gluon.Trainer(model.collect_params(),'adam',{'learning_rate':learning_rate,\"wd\":1e-5})"
   ]
  },
  {
   "cell_type": "code",
   "execution_count": null,
   "metadata": {},
   "outputs": [],
   "source": [
    "for epoch in range(num_epochs):\n",
    "    for data in dataloader:\n",
    "        image,_=data\n",
    "        img=image.as_in_context(ctx)\n",
    "        batch=image.shape[0]\n",
    "        \n",
    "        with mx.autograd.record():\n",
    "            output=model(img)\n",
    "            loss=l2loss(output,img)\n",
    "            \n",
    "        loss.backward()\n",
    "        trainer.step(batch)\n",
    "        \n",
    "        print('epoch [{}/{}], loss:{:.4f}'\n",
    "          .format(epoch + 1, num_epochs, nd.mean(loss).asscalar()))\n",
    "    \n",
    "\n",
    "model.save_params('./con_autoencoder.params')\n",
    "\n"
   ]
  },
  {
   "cell_type": "code",
   "execution_count": null,
   "metadata": {},
   "outputs": [],
   "source": []
  }
 ],
 "metadata": {
  "kernelspec": {
   "display_name": "Python 3",
   "language": "python",
   "name": "python3"
  },
  "language_info": {
   "codemirror_mode": {
    "name": "ipython",
    "version": 3
   },
   "file_extension": ".py",
   "mimetype": "text/x-python",
   "name": "python",
   "nbconvert_exporter": "python",
   "pygments_lexer": "ipython3",
   "version": "3.6.3"
  },
  "latex_envs": {
   "LaTeX_envs_menu_present": true,
   "autocomplete": true,
   "bibliofile": "biblio.bib",
   "cite_by": "apalike",
   "current_citInitial": 1,
   "eqLabelWithNumbers": true,
   "eqNumInitial": 1,
   "hotkeys": {
    "equation": "Ctrl-E",
    "itemize": "Ctrl-I"
   },
   "labels_anchors": false,
   "latex_user_defs": false,
   "report_style_numbering": false,
   "user_envs_cfg": false
  },
  "toc": {
   "nav_menu": {},
   "number_sections": true,
   "sideBar": true,
   "skip_h1_title": false,
   "toc_cell": false,
   "toc_position": {},
   "toc_section_display": "block",
   "toc_window_display": false
  }
 },
 "nbformat": 4,
 "nbformat_minor": 2
}
